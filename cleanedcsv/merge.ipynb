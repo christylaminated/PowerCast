{
 "cells": [
  {
   "cell_type": "code",
   "execution_count": 2,
   "metadata": {},
   "outputs": [],
   "source": [
    "import os\n",
    "import pandas as pd "
   ]
  },
  {
   "cell_type": "code",
   "execution_count": 7,
   "metadata": {},
   "outputs": [
    {
     "name": "stdout",
     "output_type": "stream",
     "text": [
      "\n",
      "🔍 Duplicate Columns Found Across Files:\n",
      "\n",
      "Column: 'Austria [MWh] Original resolutions' found in:\n",
      "  - cleaned_Imported_balancing_services_202301010000_202503050000_Quarterhour.csv & cleaned_Exported_balancing_services_202301010000_202503050000_Quarterhour.csv\n",
      "----------------------------------------\n",
      "Column: 'Hydro pumped storage [MWh] Original resolutions' found in:\n",
      "  - cleaned_Actual_generation_Quarterhour.csv & cleaned_Actual_consumption_Quarterhour.csv\n",
      "----------------------------------------\n"
     ]
    }
   ],
   "source": [
    "import os\n",
    "import pandas as pd\n",
    "from collections import defaultdict\n",
    "\n",
    "input_folder = \"./\"\n",
    "\n",
    "# Collect all CSV files in the folder\n",
    "csv_files = [f for f in os.listdir(input_folder) if f.endswith(\".csv\")]\n",
    "\n",
    "# Track which file contains which columns\n",
    "file_columns = {}\n",
    "\n",
    "for file in csv_files:\n",
    "    file_path = os.path.join(input_folder, file)\n",
    "    df = pd.read_csv(file_path, delimiter=\",\", low_memory=False)\n",
    "    file_columns[file] = set(df.columns)\n",
    "\n",
    "# Find overlapping column names (excluding \"Start date\")\n",
    "overlap_report = defaultdict(list)\n",
    "\n",
    "for i in range(len(csv_files)):\n",
    "    file_i = csv_files[i]\n",
    "    for j in range(i + 1, len(csv_files)):\n",
    "        file_j = csv_files[j]\n",
    "        common_cols = file_columns[file_i].intersection(file_columns[file_j])\n",
    "        common_cols.discard(\"Start date\")  # ignore merge key\n",
    "        if common_cols:\n",
    "            for col in common_cols:\n",
    "                overlap_report[col].append((file_i, file_j))\n",
    "\n",
    "# Print results\n",
    "print(\"\\n🔍 Duplicate Columns Found Across Files:\\n\")\n",
    "if not overlap_report:\n",
    "    print(\"No duplicate column names found across files.\")\n",
    "else:\n",
    "    for col, file_pairs in overlap_report.items():\n",
    "        print(f\"Column: '{col}' found in:\")\n",
    "        for pair in file_pairs:\n",
    "            print(f\"  - {pair[0]} & {pair[1]}\")\n",
    "        print(\"-\" * 40)\n"
   ]
  },
  {
   "cell_type": "code",
   "execution_count": null,
   "metadata": {},
   "outputs": [
    {
     "name": "stdout",
     "output_type": "stream",
     "text": [
      "✅ All files merged and duplicate columns renamed based on source file.\n",
      "📐 Final shape: (76525, 39)\n"
     ]
    }
   ],
   "source": [
    "import os\n",
    "import pandas as pd\n",
    "\n",
    "input_folder = \"./\"\n",
    "\n",
    "csv_files = [f for f in os.listdir(input_folder) if f.endswith(\".csv\")]\n",
    "df_list = []\n",
    "\n",
    "for file in csv_files:\n",
    "    file_path = os.path.join(input_folder, file)\n",
    "    df = pd.read_csv(file_path, delimiter=\",\", low_memory=False)\n",
    "    \n",
    "    # Use filename (without extension) as suffix\n",
    "    tag = os.path.splitext(file)[0].replace(\"cleaned_\", \"\")\n",
    "    \n",
    "    # Rename all columns except \"Start date\"\n",
    "    new_cols = []\n",
    "    for col in df.columns:\n",
    "        if col == \"Start date\":\n",
    "            new_cols.append(col)\n",
    "        else:\n",
    "            new_cols.append(f\"{col}_{tag}\")\n",
    "    df.columns = new_cols\n",
    "\n",
    "    df_list.append(df)\n",
    "\n",
    "# Merge all dataframes on 'Start date'\n",
    "merged_df = df_list[0]\n",
    "for df in df_list[1:]:\n",
    "    merged_df = pd.merge(merged_df, df, on=\"Start date\", how=\"inner\")\n",
    "\n",
    "print(\"All files merged and duplicate columns renamed based on source file.\")\n",
    "print(\"Final shape:\", merged_df.shape)\n",
    "\n",
    "# Optional: save result\n",
    "merged_df.to_csv(\"./cleaned_and_merged.csv\", index=False)\n"
   ]
  },
  {
   "cell_type": "code",
   "execution_count": null,
   "metadata": {},
   "outputs": [],
   "source": []
  }
 ],
 "metadata": {
  "kernelspec": {
   "display_name": "3.11",
   "language": "python",
   "name": "python3"
  },
  "language_info": {
   "codemirror_mode": {
    "name": "ipython",
    "version": 3
   },
   "file_extension": ".py",
   "mimetype": "text/x-python",
   "name": "python",
   "nbconvert_exporter": "python",
   "pygments_lexer": "ipython3",
   "version": "3.11.11"
  }
 },
 "nbformat": 4,
 "nbformat_minor": 2
}
